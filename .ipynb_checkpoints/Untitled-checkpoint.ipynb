{
 "cells": [
  {
   "cell_type": "code",
   "execution_count": 2,
   "metadata": {},
   "outputs": [],
   "source": [
    "import numpy as np"
   ]
  },
  {
   "cell_type": "code",
   "execution_count": 8,
   "metadata": {},
   "outputs": [],
   "source": [
    "x_lim = 20\n",
    "y_lim = 20\n",
    "x_list = np.arange(-x_lim,x_lim,1)\n",
    "y_list = np.arange(-y_lim,y_lim,1)\n",
    "eps = 0.1"
   ]
  },
  {
   "cell_type": "code",
   "execution_count": 10,
   "metadata": {},
   "outputs": [
    {
     "name": "stdout",
     "output_type": "stream",
     "text": [
      "[-20, -20, 20, -19.9]\n",
      "[-20, -19, 20, -18.9]\n",
      "[-20, -18, 20, -17.9]\n",
      "[-20, -17, 20, -16.9]\n",
      "[-20, -16, 20, -15.9]\n",
      "[-20, -15, 20, -14.9]\n",
      "[-20, -14, 20, -13.9]\n",
      "[-20, -13, 20, -12.9]\n",
      "[-20, -12, 20, -11.9]\n",
      "[-20, -11, 20, -10.9]\n",
      "[-20, -10, 20, -9.9]\n",
      "[-20, -9, 20, -8.9]\n",
      "[-20, -8, 20, -7.9]\n",
      "[-20, -7, 20, -6.9]\n",
      "[-20, -6, 20, -5.9]\n",
      "[-20, -5, 20, -4.9]\n",
      "[-20, -4, 20, -3.9]\n",
      "[-20, -3, 20, -2.9]\n",
      "[-20, -2, 20, -1.9]\n",
      "[-20, -1, 20, -0.9]\n",
      "[-20, 0, 20, 0.1]\n",
      "[-20, 1, 20, 1.1]\n",
      "[-20, 2, 20, 2.1]\n",
      "[-20, 3, 20, 3.1]\n",
      "[-20, 4, 20, 4.1]\n",
      "[-20, 5, 20, 5.1]\n",
      "[-20, 6, 20, 6.1]\n",
      "[-20, 7, 20, 7.1]\n",
      "[-20, 8, 20, 8.1]\n",
      "[-20, 9, 20, 9.1]\n",
      "[-20, 10, 20, 10.1]\n",
      "[-20, 11, 20, 11.1]\n",
      "[-20, 12, 20, 12.1]\n",
      "[-20, 13, 20, 13.1]\n",
      "[-20, 14, 20, 14.1]\n",
      "[-20, 15, 20, 15.1]\n",
      "[-20, 16, 20, 16.1]\n",
      "[-20, 17, 20, 17.1]\n",
      "[-20, 18, 20, 18.1]\n",
      "[-20, 19, 20, 19.1]\n"
     ]
    }
   ],
   "source": [
    "grid_list = []\n",
    "for x in x_list:\n",
    "    grid = [x, -y_lim, x+eps, y_lim]\n",
    "    grid_list.append(grid)\n",
    "    \n",
    "for y in y_list:\n",
    "    grid = [-x_lim, y, x_lim, y+eps]\n",
    "    grid_list.append(grid)    \n",
    "    print (grid)"
   ]
  },
  {
   "cell_type": "code",
   "execution_count": 5,
   "metadata": {},
   "outputs": [
    {
     "data": {
      "text/plain": [
       "(441, 2)"
      ]
     },
     "execution_count": 5,
     "metadata": {},
     "output_type": "execute_result"
    }
   ],
   "source": [
    "map_lim = 20\n",
    "grid_res = 1.0\n",
    "\n",
    "X, Y = np.mgrid[-map_lim : map_lim + 0.1 : 2*grid_res, \n",
    "                -map_lim : map_lim + 0.1 : 2*grid_res]\n",
    "map_grids = np.vstack((X.flatten(), Y.flatten())).T\n",
    "map_grids.shape"
   ]
  },
  {
   "cell_type": "code",
   "execution_count": 4,
   "metadata": {},
   "outputs": [],
   "source": [
    "def get_closest_n_grids(current_pos, n):\n",
    "        differences = current_pos-map_grids\n",
    "        distances = np.sum(differences*differences,axis=1)\n",
    "        sorted_indices = sorted(range(len(distances)), key=lambda k: distances[k])\n",
    "        \n",
    "        return sorted_indices[0:n]\n",
    "\n",
    "def get_closest_grid(current_pos):\n",
    "    differences = current_pos-map_grids\n",
    "    distances = np.sum(differences*differences,axis=1)\n",
    "    min_ind = np.argmin(distances)\n",
    "\n",
    "    return min_ind"
   ]
  },
  {
   "cell_type": "code",
   "execution_count": 7,
   "metadata": {},
   "outputs": [
    {
     "data": {
      "text/plain": [
       "array([[0., 0., 0., 0.],\n",
       "       [0., 0., 0., 0.],\n",
       "       [0., 0., 0., 0.],\n",
       "       [0., 0., 0., 0.],\n",
       "       [0., 0., 0., 0.]])"
      ]
     },
     "execution_count": 7,
     "metadata": {},
     "output_type": "execute_result"
    }
   ],
   "source": [
    "a = np.zeros(20)\n",
    "np.reshape(a, (5,4))"
   ]
  },
  {
   "cell_type": "code",
   "execution_count": 3,
   "metadata": {},
   "outputs": [
    {
     "data": {
      "text/plain": [
       "(441, 2)"
      ]
     },
     "execution_count": 3,
     "metadata": {},
     "output_type": "execute_result"
    }
   ],
   "source": []
  },
  {
   "cell_type": "code",
   "execution_count": 10,
   "metadata": {},
   "outputs": [
    {
     "data": {
      "text/plain": [
       "array([180., 145., 200., 325.])"
      ]
     },
     "execution_count": 10,
     "metadata": {},
     "output_type": "execute_result"
    }
   ],
   "source": [
    "a"
   ]
  },
  {
   "cell_type": "code",
   "execution_count": 11,
   "metadata": {},
   "outputs": [
    {
     "data": {
      "text/plain": [
       "array([ True, False, False, False])"
      ]
     },
     "execution_count": 11,
     "metadata": {},
     "output_type": "execute_result"
    }
   ],
   "source": [
    "a==b"
   ]
  },
  {
   "cell_type": "code",
   "execution_count": 12,
   "metadata": {},
   "outputs": [],
   "source": [
    "c = np.zeros(4)\n",
    "c[a==b] = 1"
   ]
  },
  {
   "cell_type": "code",
   "execution_count": 13,
   "metadata": {},
   "outputs": [
    {
     "data": {
      "text/plain": [
       "array([1., 0., 0., 0.])"
      ]
     },
     "execution_count": 13,
     "metadata": {},
     "output_type": "execute_result"
    }
   ],
   "source": [
    "c"
   ]
  },
  {
   "cell_type": "code",
   "execution_count": null,
   "metadata": {},
   "outputs": [],
   "source": []
  }
 ],
 "metadata": {
  "kernelspec": {
   "display_name": "Python 3",
   "language": "python",
   "name": "python3"
  },
  "language_info": {
   "codemirror_mode": {
    "name": "ipython",
    "version": 3
   },
   "file_extension": ".py",
   "mimetype": "text/x-python",
   "name": "python",
   "nbconvert_exporter": "python",
   "pygments_lexer": "ipython3",
   "version": "3.7.4"
  }
 },
 "nbformat": 4,
 "nbformat_minor": 4
}
