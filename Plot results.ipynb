{
 "cells": [
  {
   "cell_type": "code",
   "execution_count": 3,
   "metadata": {},
   "outputs": [],
   "source": [
    "import pickle\n",
    "from numpy import array"
   ]
  },
  {
   "cell_type": "code",
   "execution_count": 5,
   "metadata": {},
   "outputs": [],
   "source": [
    "map_list = [array([[0, 1, 0, 0, 0, 0],\n",
    "                    [0, 1, 1, 1, 1, 1],\n",
    "                    [0, 1, 0, 0, 0, 0],\n",
    "                    [0, 1, 5, 0, 2, 0],\n",
    "                    [0, 1, 1, 1, 3, 1],\n",
    "                    [0, 0, 0, 0, 4, 0]]),\n",
    "            array([[0, 0, 4, 0, 0, 0],\n",
    "                    [0, 0, 0, 0, 0, 0],\n",
    "                    [1, 3, 1, 1, 1, 0],\n",
    "                    [0, 0, 0, 0, 1, 0],\n",
    "                    [0, 2, 0, 0, 1, 0],\n",
    "                    [0, 0, 0, 5, 3, 0]]),\n",
    "            array([[0, 5, 0, 0, 0, 0, 0, 0],\n",
    "                    [0, 0, 0, 0, 0, 0, 0, 2],\n",
    "                    [1, 1, 1, 3, 1, 1, 1, 0],\n",
    "                    [0, 0, 0, 0, 0, 0, 1, 0],\n",
    "                    [0, 0, 0, 0, 0, 4, 1, 0],\n",
    "                    [0, 0, 0, 0, 0, 0, 3, 0],\n",
    "                    [0, 0, 0, 0, 0, 0, 1, 0],\n",
    "                    [0, 0, 0, 0, 0, 0, 1, 0]]),\n",
    "            array([[0, 1, 0, 0, 0, 0, 0, 5],\n",
    "                    [0, 1, 0, 0, 0, 0, 0, 0],\n",
    "                    [0, 1, 0, 0, 0, 0, 0, 0],\n",
    "                    [0, 1, 0, 0, 0, 0, 0, 0],\n",
    "                    [0, 3, 0, 2, 0, 0, 0, 0],\n",
    "                    [0, 1, 0, 0, 0, 0, 0, 0],\n",
    "                    [0, 1, 1, 1, 1, 3, 1, 1],\n",
    "                    [0, 0, 0, 0, 0, 0, 0, 4]]),\n",
    "            array([[0, 0, 1, 0, 0, 0, 0, 0, 5, 0],\n",
    "                    [0, 0, 1, 2, 0, 0, 0, 0, 0, 0],\n",
    "                    [0, 0, 1, 0, 0, 0, 0, 0, 0, 0],\n",
    "                    [0, 0, 1, 1, 3, 1, 1, 1, 1, 1],\n",
    "                    [0, 0, 1, 0, 0, 0, 0, 0, 0, 0],\n",
    "                    [0, 0, 3, 0, 0, 0, 0, 0, 0, 0],\n",
    "                    [0, 0, 1, 0, 0, 0, 0, 0, 0, 0],\n",
    "                    [4, 0, 1, 1, 1, 1, 3, 1, 1, 1],\n",
    "                    [0, 0, 0, 0, 0, 0, 0, 0, 0, 0],\n",
    "                    [0, 0, 0, 0, 0, 0, 0, 0, 0, 0]]),\n",
    "            array([[0, 0, 0, 0, 0, 0, 4, 0, 0, 0],\n",
    "                    [0, 0, 0, 0, 0, 0, 0, 0, 0, 0],\n",
    "                    [1, 1, 1, 3, 1, 1, 1, 1, 3, 1],\n",
    "                    [0, 0, 0, 0, 0, 0, 1, 0, 0, 0],\n",
    "                    [0, 0, 0, 0, 0, 0, 1, 0, 0, 0],\n",
    "                    [1, 1, 1, 1, 1, 3, 1, 0, 0, 0],\n",
    "                    [0, 0, 2, 0, 0, 0, 1, 0, 0, 0],\n",
    "                    [0, 0, 0, 0, 0, 0, 1, 0, 0, 0],\n",
    "                    [0, 0, 0, 0, 0, 0, 3, 0, 0, 0],\n",
    "                    [0, 5, 0, 0, 0, 0, 1, 0, 0, 0]])]\n",
    "\n",
    "\n",
    "with open(\"doorkey_all_maps.pickle\", 'wb') as handle:\n",
    "        pickle.dump(map_list, handle, protocol=pickle.HIGHEST_PROTOCOL)"
   ]
  },
  {
   "cell_type": "code",
   "execution_count": 6,
   "metadata": {},
   "outputs": [
    {
     "data": {
      "text/plain": [
       "[array([[0, 1, 0, 0, 0, 0],\n",
       "        [0, 1, 1, 1, 1, 1],\n",
       "        [0, 1, 0, 0, 0, 0],\n",
       "        [0, 1, 5, 0, 2, 0],\n",
       "        [0, 1, 1, 1, 3, 1],\n",
       "        [0, 0, 0, 0, 4, 0]]),\n",
       " array([[0, 0, 4, 0, 0, 0],\n",
       "        [0, 0, 0, 0, 0, 0],\n",
       "        [1, 3, 1, 1, 1, 0],\n",
       "        [0, 0, 0, 0, 1, 0],\n",
       "        [0, 2, 0, 0, 1, 0],\n",
       "        [0, 0, 0, 5, 3, 0]]),\n",
       " array([[0, 5, 0, 0, 0, 0, 0, 0],\n",
       "        [0, 0, 0, 0, 0, 0, 0, 2],\n",
       "        [1, 1, 1, 3, 1, 1, 1, 0],\n",
       "        [0, 0, 0, 0, 0, 0, 1, 0],\n",
       "        [0, 0, 0, 0, 0, 4, 1, 0],\n",
       "        [0, 0, 0, 0, 0, 0, 3, 0],\n",
       "        [0, 0, 0, 0, 0, 0, 1, 0],\n",
       "        [0, 0, 0, 0, 0, 0, 1, 0]]),\n",
       " array([[0, 1, 0, 0, 0, 0, 0, 5],\n",
       "        [0, 1, 0, 0, 0, 0, 0, 0],\n",
       "        [0, 1, 0, 0, 0, 0, 0, 0],\n",
       "        [0, 1, 0, 0, 0, 0, 0, 0],\n",
       "        [0, 3, 0, 2, 0, 0, 0, 0],\n",
       "        [0, 1, 0, 0, 0, 0, 0, 0],\n",
       "        [0, 1, 1, 1, 1, 3, 1, 1],\n",
       "        [0, 0, 0, 0, 0, 0, 0, 4]]),\n",
       " array([[0, 0, 1, 0, 0, 0, 0, 0, 5, 0],\n",
       "        [0, 0, 1, 2, 0, 0, 0, 0, 0, 0],\n",
       "        [0, 0, 1, 0, 0, 0, 0, 0, 0, 0],\n",
       "        [0, 0, 1, 1, 3, 1, 1, 1, 1, 1],\n",
       "        [0, 0, 1, 0, 0, 0, 0, 0, 0, 0],\n",
       "        [0, 0, 3, 0, 0, 0, 0, 0, 0, 0],\n",
       "        [0, 0, 1, 0, 0, 0, 0, 0, 0, 0],\n",
       "        [4, 0, 1, 1, 1, 1, 3, 1, 1, 1],\n",
       "        [0, 0, 0, 0, 0, 0, 0, 0, 0, 0],\n",
       "        [0, 0, 0, 0, 0, 0, 0, 0, 0, 0]]),\n",
       " array([[0, 0, 0, 0, 0, 0, 4, 0, 0, 0],\n",
       "        [0, 0, 0, 0, 0, 0, 0, 0, 0, 0],\n",
       "        [1, 1, 1, 3, 1, 1, 1, 1, 3, 1],\n",
       "        [0, 0, 0, 0, 0, 0, 1, 0, 0, 0],\n",
       "        [0, 0, 0, 0, 0, 0, 1, 0, 0, 0],\n",
       "        [1, 1, 1, 1, 1, 3, 1, 0, 0, 0],\n",
       "        [0, 0, 2, 0, 0, 0, 1, 0, 0, 0],\n",
       "        [0, 0, 0, 0, 0, 0, 1, 0, 0, 0],\n",
       "        [0, 0, 0, 0, 0, 0, 3, 0, 0, 0],\n",
       "        [0, 5, 0, 0, 0, 0, 1, 0, 0, 0]])]"
      ]
     },
     "execution_count": 6,
     "metadata": {},
     "output_type": "execute_result"
    }
   ],
   "source": [
    "with open(\"doorkey_all_maps.pickle\", 'rb') as handle:\n",
    "    new_target_maps = pickle.load(handle)\n",
    "\n",
    "new_target_maps"
   ]
  },
  {
   "cell_type": "code",
   "execution_count": 1,
   "id": "a7a3937e",
   "metadata": {},
   "outputs": [],
   "source": [
    "import glob\n",
    "import json\n",
    "import glob\n",
    "import numpy as np\n",
    "import pandas as pd\n",
    "import seaborn as sns\n",
    "from natsort import natsorted\n",
    "import matplotlib.pyplot as plt\n",
    "from collections import defaultdict\n",
    "from tensorboard.backend.event_processing.event_accumulator import EventAccumulator\n",
    "\n",
    "\n",
    "def load_csv(file_name):\n",
    "    with open(file_name, \"rt\") as file_handler:\n",
    "        data_frame = pd.read_csv(file_handler, index_col=None)\n",
    "\n",
    "    data_frame = data_frame.rename(columns={'Unnamed: 0': 'index', 'Index, Eval': 'reward'})\n",
    "    return data_frame\n",
    "\n",
    "\n",
    "def tabulate_events(dpath, type=\"eval/mean_reward\"):\n",
    "    summary_iterators = [EventAccumulator(os.path.join(dpath, dname)).Reload() for dname in os.listdir(dpath)]\n",
    "\n",
    "    tags = summary_iterators[0].Tags()['scalars']\n",
    "\n",
    "\n",
    "    for it in summary_iterators:\n",
    "        assert it.Tags()['scalars'] == tags\n",
    "\n",
    "    out = defaultdict(list)\n",
    "    steps = []\n",
    "\n",
    "    for tag in tags:\n",
    "        if tag == type:\n",
    "            steps = [e.step for e in summary_iterators[0].Scalars(tag)]\n",
    "\n",
    "            for events in zip(*[acc.Scalars(tag) for acc in summary_iterators]):\n",
    "                assert len(set(e.step for e in events)) == 1\n",
    "\n",
    "                out[tag].append([e.value for e in events])\n",
    "\n",
    "    return out, steps\n",
    "\n",
    "\n",
    "def to_csv(dpath = \"2Ocak_PPOCNN_Bayes_8x8/tensorboard/target1/\"):\n",
    "    dirs = os.listdir(dpath)\n",
    "\n",
    "    for dir in dirs:\n",
    "        d, steps = tabulate_events(dpath + dir)\n",
    "        tags, values = zip(*d.items())\n",
    "        np_values = np.array(values)\n",
    "        # stop\n",
    "\n",
    "        for index, tag in enumerate(tags):\n",
    "            df = pd.DataFrame(np_values[index], index=steps, columns=[\"Index, Eval\"])\n",
    "            df.to_csv(dpath + dir + \".csv\")"
   ]
  },
  {
   "cell_type": "code",
   "execution_count": 15,
   "id": "ce48c7dd",
   "metadata": {},
   "outputs": [
    {
     "data": {
      "image/png": "[encoded data removed]",
      "text/plain": [
       "<Figure size 1296x576 with 1 Axes>"
      ]
     },
     "metadata": {
      "needs_background": "light"
     },
     "output_type": "display_data"
    }
   ],
   "source": [
    "# folder = \"2Ocak_PPOCNN_NoCurriculum\"\n",
    "# index = 1\n",
    "\n",
    "# to_csv(dpath = folder + \"/tensorboard/target\" + str(index) + \"/\")\n",
    "\n",
    "# fig = plt.figure(figsize=(18, 8))\n",
    "# dir_list = glob.glob(folder + \"/tensorboard/target\" + str(index) + \"/*.csv\")\n",
    "# dir_list = natsorted(dir_list)\n",
    "# prev_ind = 0\n",
    "# name_list = []\n",
    "# for dir in dir_list:\n",
    "#     name = dir.split(\"\\\\\")[-1].split(\"target_\" + str(index) + \"_\")[-1][:-4]\n",
    "#     name_list.append(name)\n",
    "#     pd_frame = load_csv(dir)\n",
    "#     pd_frame['index'] += prev_ind\n",
    "#     prev_ind = np.max(pd_frame['index'].values)\n",
    "#     sns.lineplot(x='index', y='reward', data=pd_frame)\n",
    "\n",
    "\n",
    "# plt.legend(labels=name_list)\n",
    "# plt.title('Evaluation Results in Curriculum Approach')\n",
    "# plt.xlabel('Episode')\n",
    "# plt.ylabel('Reward')\n",
    "# plt.grid()\n",
    "# plt.savefig(\"NoCurriculum_target_\" + str(index) +\".png\")"
   ]
  },
  {
   "cell_type": "code",
   "execution_count": 30,
   "id": "38b4d9a3",
   "metadata": {},
   "outputs": [
    {
     "data": {
      "image/png": "[encoded data removed]",
      "text/plain": [
       "<Figure size 432x288 with 1 Axes>"
      ]
     },
     "metadata": {
      "needs_background": "light"
     },
     "output_type": "display_data"
    }
   ],
   "source": [
    "file_name = \"log/iter2/monitor2.csv\"\n",
    "\n",
    "with open(file_name, \"rt\") as file_handler:\n",
    "        data_frame = pd.read_csv(file_handler)\n",
    "\n",
    "# data_frame\n",
    "# data_frame[\"mean_episode_return\"]\n",
    "data_frame[\"i\"] = np.arange(len(data_frame))\n",
    "\n",
    "# data_frame[\"# _tick\"] = data_frame[\"# _tick\"]\n",
    "sns.lineplot(x='i', y='r', data=data_frame[:900])\n",
    "plt.title('Training Process')\n",
    "plt.xlabel('Episode')\n",
    "plt.ylabel('Reward')\n",
    "plt.grid()\n",
    "plt.savefig(\"rapid.png\")"
   ]
  },
  {
   "cell_type": "code",
   "execution_count": 32,
   "id": "e68838c3",
   "metadata": {},
   "outputs": [
    {
     "data": {
      "text/plain": [
       "9.49453730111111"
      ]
     },
     "execution_count": 32,
     "metadata": {},
     "output_type": "execute_result"
    }
   ],
   "source": [
    "(data_frame[\"t\"].values[950] - data_frame[\"t\"].values[0]) / (3600)"
   ]
  },
  {
   "cell_type": "code",
   "execution_count": 33,
   "id": "542203c7",
   "metadata": {},
   "outputs": [
    {
     "data": {
      "text/plain": [
       "0.7777"
      ]
     },
     "execution_count": 33,
     "metadata": {},
     "output_type": "execute_result"
    }
   ],
   "source": [
    "np.max(data_frame[\"r\"].values)"
   ]
  },
  {
   "cell_type": "code",
   "execution_count": 17,
   "id": "99e59eb7",
   "metadata": {},
   "outputs": [],
   "source": [
    "data_frame.columns = [\"reward\", \"length\", \"time\"]"
   ]
  },
  {
   "cell_type": "code",
   "execution_count": 25,
   "id": "7a6a8b32",
   "metadata": {},
   "outputs": [],
   "source": []
  },
  {
   "cell_type": "code",
   "execution_count": 26,
   "id": "9c9ebc76",
   "metadata": {},
   "outputs": [
    {
     "data": {
      "text/html": [
       "<div>\n",
       "<style scoped>\n",
       "    .dataframe tbody tr th:only-of-type {\n",
       "        vertical-align: middle;\n",
       "    }\n",
       "\n",
       "    .dataframe tbody tr th {\n",
       "        vertical-align: top;\n",
       "    }\n",
       "\n",
       "    .dataframe thead th {\n",
       "        text-align: right;\n",
       "    }\n",
       "</style>\n",
       "<table border=\"1\" class=\"dataframe\">\n",
       "  <thead>\n",
       "    <tr style=\"text-align: right;\">\n",
       "      <th></th>\n",
       "      <th>r</th>\n",
       "      <th>l</th>\n",
       "      <th>t</th>\n",
       "      <th>i</th>\n",
       "    </tr>\n",
       "  </thead>\n",
       "  <tbody>\n",
       "    <tr>\n",
       "      <th>0</th>\n",
       "      <td>0.0</td>\n",
       "      <td>1000</td>\n",
       "      <td>4.281688</td>\n",
       "      <td>0</td>\n",
       "    </tr>\n",
       "    <tr>\n",
       "      <th>1</th>\n",
       "      <td>0.0</td>\n",
       "      <td>1000</td>\n",
       "      <td>12.789230</td>\n",
       "      <td>1</td>\n",
       "    </tr>\n",
       "    <tr>\n",
       "      <th>2</th>\n",
       "      <td>0.0</td>\n",
       "      <td>1000</td>\n",
       "      <td>29.043778</td>\n",
       "      <td>2</td>\n",
       "    </tr>\n",
       "    <tr>\n",
       "      <th>3</th>\n",
       "      <td>0.0</td>\n",
       "      <td>1000</td>\n",
       "      <td>41.377061</td>\n",
       "      <td>3</td>\n",
       "    </tr>\n",
       "    <tr>\n",
       "      <th>4</th>\n",
       "      <td>0.0</td>\n",
       "      <td>1000</td>\n",
       "      <td>55.839700</td>\n",
       "      <td>4</td>\n",
       "    </tr>\n",
       "    <tr>\n",
       "      <th>...</th>\n",
       "      <td>...</td>\n",
       "      <td>...</td>\n",
       "      <td>...</td>\n",
       "      <td>...</td>\n",
       "    </tr>\n",
       "    <tr>\n",
       "      <th>1768</th>\n",
       "      <td>0.0</td>\n",
       "      <td>1000</td>\n",
       "      <td>63665.494918</td>\n",
       "      <td>1768</td>\n",
       "    </tr>\n",
       "    <tr>\n",
       "      <th>1769</th>\n",
       "      <td>0.0</td>\n",
       "      <td>1000</td>\n",
       "      <td>63694.067522</td>\n",
       "      <td>1769</td>\n",
       "    </tr>\n",
       "    <tr>\n",
       "      <th>1770</th>\n",
       "      <td>0.0</td>\n",
       "      <td>1000</td>\n",
       "      <td>63722.125916</td>\n",
       "      <td>1770</td>\n",
       "    </tr>\n",
       "    <tr>\n",
       "      <th>1771</th>\n",
       "      <td>0.0</td>\n",
       "      <td>1000</td>\n",
       "      <td>63770.675019</td>\n",
       "      <td>1771</td>\n",
       "    </tr>\n",
       "    <tr>\n",
       "      <th>1772</th>\n",
       "      <td>0.0</td>\n",
       "      <td>1000</td>\n",
       "      <td>63798.014621</td>\n",
       "      <td>1772</td>\n",
       "    </tr>\n",
       "  </tbody>\n",
       "</table>\n",
       "<p>1773 rows × 4 columns</p>\n",
       "</div>"
      ],
      "text/plain": [
       "        r     l             t     i\n",
       "0     0.0  1000      4.281688     0\n",
       "1     0.0  1000     12.789230     1\n",
       "2     0.0  1000     29.043778     2\n",
       "3     0.0  1000     41.377061     3\n",
       "4     0.0  1000     55.839700     4\n",
       "...   ...   ...           ...   ...\n",
       "1768  0.0  1000  63665.494918  1768\n",
       "1769  0.0  1000  63694.067522  1769\n",
       "1770  0.0  1000  63722.125916  1770\n",
       "1771  0.0  1000  63770.675019  1771\n",
       "1772  0.0  1000  63798.014621  1772\n",
       "\n",
       "[1773 rows x 4 columns]"
      ]
     },
     "execution_count": 26,
     "metadata": {},
     "output_type": "execute_result"
    }
   ],
   "source": []
  },
  {
   "cell_type": "code",
   "execution_count": null,
   "id": "db5a58a7",
   "metadata": {},
   "outputs": [],
   "source": []
  }
 ],
 "metadata": {
  "kernelspec": {
   "display_name": "curriculum",
   "language": "python",
   "name": "python3"
  },
  "language_info": {
   "codemirror_mode": {
    "name": "ipython",
    "version": 3
   },
   "file_extension": ".py",
   "mimetype": "text/x-python",
   "name": "python",
   "nbconvert_exporter": "python",
   "pygments_lexer": "ipython3",
   "version": "3.7.16"
  },
  "vscode": {
   "interpreter": {
    "hash": "e6f19f2330b11f14e7b6b4ffcbdb82d373d6a2c4e935f4660c54cf57a9c1e461"
   }
  }
 },
 "nbformat": 4,
 "nbformat_minor": 5
}
