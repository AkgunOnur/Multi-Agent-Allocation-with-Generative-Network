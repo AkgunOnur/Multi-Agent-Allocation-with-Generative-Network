{
 "cells": [
  {
   "cell_type": "code",
   "execution_count": 2,
   "metadata": {},
   "outputs": [],
   "source": [
    "import numpy as np\n",
    "import math\n",
    "from sys import maxsize\n",
    "import matplotlib.pyplot as plt"
   ]
  },
  {
   "cell_type": "code",
   "execution_count": 20,
   "metadata": {},
   "outputs": [
    {
     "data": {
      "image/png": "[encoded data removed]",
      "text/plain": [
       "<Figure size 432x288 with 1 Axes>"
      ]
     },
     "metadata": {
      "needs_background": "light"
     },
     "output_type": "display_data"
    }
   ],
   "source": [
    "show_animation = False\n",
    "\n",
    "class State:\n",
    "\n",
    "    def __init__(self, x, y):\n",
    "        self.x = x\n",
    "        self.y = y\n",
    "        self.parent = None\n",
    "        self.state = \".\"\n",
    "        self.t = \"new\"  # tag for state\n",
    "        self.h = 0\n",
    "        self.k = 0\n",
    "        self.action = -1\n",
    "\n",
    "    def cost(self, state):\n",
    "        if self.state == \"#\" or state.state == \"#\":\n",
    "            return maxsize\n",
    "\n",
    "        return math.sqrt(math.pow((self.x - state.x), 2) +\n",
    "                         math.pow((self.y - state.y), 2))\n",
    "\n",
    "    def set_state(self, state):\n",
    "        \"\"\"\n",
    "        .: new\n",
    "        #: obstacle\n",
    "        e: oparent of current state\n",
    "        *: closed state\n",
    "        s: current state\n",
    "        \"\"\"\n",
    "        if state not in [\"s\", \".\", \"#\", \"e\", \"*\"]:\n",
    "            return\n",
    "        self.state = state\n",
    "\n",
    "\n",
    "class Map:\n",
    "\n",
    "    def __init__(self, row, col):\n",
    "        self.row = row\n",
    "        self.col = col\n",
    "        self.map = self.init_map()\n",
    "\n",
    "    def init_map(self):\n",
    "        map_list = []\n",
    "        for i in range(self.row):\n",
    "            tmp = []\n",
    "            for j in range(self.col):\n",
    "                tmp.append(State(i, j))\n",
    "            map_list.append(tmp)\n",
    "        return map_list\n",
    "\n",
    "    def get_neighbors(self, state):\n",
    "        state_list = []\n",
    "        for i in [1, 0, -1]:\n",
    "            for j in [1, 0, -1]:\n",
    "                if i == 0 and j == 0:\n",
    "                    continue\n",
    "                if state.x + i < 0 or state.x + i >= self.row:\n",
    "                    continue\n",
    "                if state.y + j < 0 or state.y + j >= self.col:\n",
    "                    continue\n",
    "                state_list.append(self.map[state.x + i][state.y + j])\n",
    "\n",
    "        return state_list\n",
    "\n",
    "    def set_obstacle(self, point_list):\n",
    "        for x, y in point_list:\n",
    "            if x < 0 or x >= self.row or y < 0 or y >= self.col:\n",
    "                continue\n",
    "\n",
    "            self.map[x][y].set_state(\"#\")\n",
    "\n",
    "\n",
    "class Dstar:\n",
    "    def __init__(self, maps):\n",
    "        self.map = maps\n",
    "        self.open_list = set()\n",
    "        self.action_dict = {(1,0):0, (-1,0):1, (0,1):2, (0,-1):3, (1,1):4, (1,-1):5, (-1,1):6, (-1,-1):7}\n",
    "\n",
    "    def process_state(self):\n",
    "        x = self.min_state()\n",
    "\n",
    "        if x is None:\n",
    "            return -1\n",
    "\n",
    "        k_old = self.get_kmin()\n",
    "        self.remove(x)\n",
    "        state_list = self.map.get_neighbors(x)\n",
    "        if k_old < x.h:\n",
    "            for y in state_list:\n",
    "                if y.h <= k_old and x.h > y.h + x.cost(y):\n",
    "                    x.parent = y\n",
    "                    x.h = y.h + x.cost(y)\n",
    "        elif k_old == x.h:\n",
    "            for y in state_list:\n",
    "                if y.t == \"new\" or y.parent == x and y.h != x.h + x.cost(y) \\\n",
    "                        or y.parent != x and y.h > x.h + x.cost(y):\n",
    "                    y.parent = x\n",
    "                    self.insert(y, x.h + x.cost(y))\n",
    "        else:\n",
    "            for y in state_list:\n",
    "                if y.t == \"new\" or y.parent == x and y.h != x.h + x.cost(y):\n",
    "                    y.parent = x\n",
    "                    self.insert(y, x.h + x.cost(y))\n",
    "                else:\n",
    "                    if y.parent != x and y.h > x.h + x.cost(y):\n",
    "                        self.insert(y, x.h)\n",
    "                    else:\n",
    "                        if y.parent != x and x.h > y.h + x.cost(y) \\\n",
    "                                and y.t == \"close\" and y.h > k_old:\n",
    "                            self.insert(y, y.h)\n",
    "        return self.get_kmin()\n",
    "\n",
    "    def min_state(self):\n",
    "        if not self.open_list:\n",
    "            return None\n",
    "        min_state = min(self.open_list, key=lambda x: x.k)\n",
    "        return min_state\n",
    "\n",
    "    def get_kmin(self):\n",
    "        if not self.open_list:\n",
    "            return -1\n",
    "        k_min = min([x.k for x in self.open_list])\n",
    "        return k_min\n",
    "\n",
    "    def insert(self, state, h_new):\n",
    "        if state.t == \"new\":\n",
    "            state.k = h_new\n",
    "        elif state.t == \"open\":\n",
    "            state.k = min(state.k, h_new)\n",
    "        elif state.t == \"close\":\n",
    "            state.k = min(state.h, h_new)\n",
    "        state.h = h_new\n",
    "        state.t = \"open\"\n",
    "        self.open_list.add(state)\n",
    "\n",
    "    def remove(self, state):\n",
    "        if state.t == \"open\":\n",
    "            state.t = \"close\"\n",
    "        self.open_list.remove(state)\n",
    "\n",
    "    def modify_cost(self, x):\n",
    "        if x.t == \"close\":\n",
    "            self.insert(x, x.parent.h + x.cost(x.parent))\n",
    "\n",
    "    def run(self, start, end):\n",
    "        pos_list = []\n",
    "        action_list = []\n",
    "        rx = []\n",
    "        ry = []\n",
    "\n",
    "        self.open_list.add(end)\n",
    "\n",
    "        while True:\n",
    "            self.process_state()\n",
    "            if start.t == \"close\":\n",
    "                break\n",
    "\n",
    "        start.set_state(\"s\")\n",
    "        s = start\n",
    "        s = s.parent\n",
    "        s.set_state(\"e\")\n",
    "        tmp = start\n",
    "\n",
    "        while tmp != end:\n",
    "            tmp.set_state(\"*\")\n",
    "            rx.append(tmp.x)\n",
    "            ry.append(tmp.y)\n",
    "            pos_list.append([tmp.x,tmp.y])\n",
    "#             if show_animation:\n",
    "#                 plt.plot(rx, ry, \"-r\")\n",
    "#                 plt.pause(0.01)\n",
    "            if tmp.parent.state == \"#\":\n",
    "                self.modify(tmp)\n",
    "                continue\n",
    "            tmp = tmp.parent\n",
    "            \n",
    "        tmp.set_state(\"e\")            \n",
    "        pos_list.append([end.x,end.y])\n",
    "        pos_list = np.array(pos_list)\n",
    "\n",
    "        for ind in range(len(pos_list) - 1):\n",
    "            diff = pos_list[ind + 1] - pos_list[ind]\n",
    "            action_list.append(self.action_dict[tuple(diff)])\n",
    "        \n",
    "        return pos_list, action_list\n",
    "\n",
    "    def modify(self, state):\n",
    "        self.modify_cost(state)\n",
    "        while True:\n",
    "            k_min = self.process_state()\n",
    "            if k_min >= state.h:\n",
    "                break\n",
    "\n",
    "\n",
    "show_animation = True\n",
    "m = Map(20, 20)\n",
    "ox, oy = [], []\n",
    "\n",
    "obstacle_list = [[0,21,0,2],[0,21,19,21],[19,21,0,21],\n",
    "                 [0,2,0,21],[10,12,0,9],[10,12,11,20]]\n",
    "\n",
    "for obs in obstacle_list:\n",
    "    for i in range(obs[0], obs[1]):\n",
    "        for j in range(obs[2], obs[3]):\n",
    "            ox.append(i)\n",
    "            oy.append(j)\n",
    "        \n",
    "\n",
    "m.set_obstacle([(i, j) for i, j in zip(ox, oy)])\n",
    "\n",
    "start = [5, 2]\n",
    "goal = [18, 2]\n",
    "if show_animation:\n",
    "    plt.plot(ox, oy, \".k\")\n",
    "    plt.plot(start[0], start[1], \"og\")\n",
    "    plt.plot(goal[0], goal[1], \"xb\")\n",
    "    plt.axis(\"equal\")\n",
    "\n",
    "start = m.map[start[0]][start[1]]\n",
    "end = m.map[goal[0]][goal[1]]\n",
    "dstar = Dstar(m)\n",
    "pos_list, action_list = dstar.run(start, end)\n",
    "\n",
    "# if show_animation:\n",
    "#     plt.plot(rx, ry, \"-r\")\n",
    "#     plt.show()\n",
    "\n"
   ]
  },
  {
   "cell_type": "code",
   "execution_count": 18,
   "metadata": {},
   "outputs": [
    {
     "data": {
      "text/plain": [
       "array([[ 5,  2],\n",
       "       [ 6,  3],\n",
       "       [ 7,  4],\n",
       "       [ 8,  5],\n",
       "       [ 9,  6],\n",
       "       [ 9,  7],\n",
       "       [ 9,  8],\n",
       "       [10,  9],\n",
       "       [11,  9],\n",
       "       [12,  8],\n",
       "       [13,  7],\n",
       "       [14,  6],\n",
       "       [15,  5],\n",
       "       [16,  4],\n",
       "       [17,  3],\n",
       "       [18,  2]])"
      ]
     },
     "execution_count": 18,
     "metadata": {},
     "output_type": "execute_result"
    }
   ],
   "source": [
    "pos_list"
   ]
  },
  {
   "cell_type": "code",
   "execution_count": 19,
   "metadata": {},
   "outputs": [
    {
     "data": {
      "text/plain": [
       "[4, 4, 4, 4, 2, 2, 4, 0, 5, 5, 5, 5, 5, 5, 5]"
      ]
     },
     "execution_count": 19,
     "metadata": {},
     "output_type": "execute_result"
    }
   ],
   "source": [
    "action_list"
   ]
  },
  {
   "cell_type": "code",
   "execution_count": 4,
   "metadata": {},
   "outputs": [
    {
     "data": {
      "text/plain": [
       "[18, 2]"
      ]
     },
     "execution_count": 4,
     "metadata": {},
     "output_type": "execute_result"
    }
   ],
   "source": [
    "goal"
   ]
  },
  {
   "cell_type": "code",
   "execution_count": 8,
   "metadata": {},
   "outputs": [
    {
     "data": {
      "text/plain": [
       "2"
      ]
     },
     "execution_count": 8,
     "metadata": {},
     "output_type": "execute_result"
    }
   ],
   "source": []
  },
  {
   "cell_type": "code",
   "execution_count": 113,
   "metadata": {},
   "outputs": [
    {
     "data": {
      "text/plain": [
       "[0, 1, 2, 3, 4, 5, 6, 7, 8, 9, 9, 9, 9, 9, 9, 9, 9]"
      ]
     },
     "execution_count": 113,
     "metadata": {},
     "output_type": "execute_result"
    }
   ],
   "source": [
    "ry"
   ]
  },
  {
   "cell_type": "code",
   "execution_count": 63,
   "metadata": {},
   "outputs": [
    {
     "data": {
      "text/plain": [
       "array([3, 4])"
      ]
     },
     "execution_count": 63,
     "metadata": {},
     "output_type": "execute_result"
    }
   ],
   "source": [
    "np.clip([2,5],3, 4)"
   ]
  },
  {
   "cell_type": "code",
   "execution_count": 23,
   "metadata": {},
   "outputs": [
    {
     "data": {
      "text/plain": [
       "3"
      ]
     },
     "execution_count": 23,
     "metadata": {},
     "output_type": "execute_result"
    }
   ],
   "source": [
    "obstacle_list = [[0, 21, 0, 1], [0, 21, 20, 21], [20, 21, 0, 21]]\n",
    "len(obstacle_list)"
   ]
  },
  {
   "cell_type": "code",
   "execution_count": 51,
   "metadata": {},
   "outputs": [
    {
     "data": {
      "text/plain": [
       "[11, -11, 8, -14, 5, -17, 2, -19, 0, 19, -3, 16, -4, 15]"
      ]
     },
     "execution_count": 51,
     "metadata": {},
     "output_type": "execute_result"
    }
   ],
   "source": [
    "rx"
   ]
  },
  {
   "cell_type": "code",
   "execution_count": 50,
   "metadata": {},
   "outputs": [
    {
     "data": {
      "text/plain": [
       "array([40, 60, 60, 40, 50])"
      ]
     },
     "execution_count": 50,
     "metadata": {},
     "output_type": "execute_result"
    }
   ],
   "source": [
    "N_prize = 5\n",
    "assigned_agents_to_prizes = {i: [] for i in range(N_prize)}\n",
    "dist = np.array([10,20,30,40,50])\n",
    "\n",
    "assigned_agents_to_prizes[0].append(1)\n",
    "assigned_agents_to_prizes[0].append(2)\n",
    "assigned_agents_to_prizes[0].append(3)\n",
    "assigned_agents_to_prizes[1].append(5)\n",
    "assigned_agents_to_prizes[2].append(4)\n",
    "assigned_agents_to_prizes[1].append(7)\n",
    "\n",
    "lst = np.array([len(assigned_agents_to_prizes[abc]) for abc in assigned_agents_to_prizes]) + 1\n",
    "rst = lst * dist\n",
    "rst"
   ]
  },
  {
   "cell_type": "code",
   "execution_count": 51,
   "metadata": {},
   "outputs": [
    {
     "data": {
      "text/plain": [
       "0"
      ]
     },
     "execution_count": 51,
     "metadata": {},
     "output_type": "execute_result"
    }
   ],
   "source": [
    "np.argmin(rst)"
   ]
  },
  {
   "cell_type": "code",
   "execution_count": 3,
   "metadata": {},
   "outputs": [
    {
     "data": {
      "text/plain": [
       "6"
      ]
     },
     "execution_count": 3,
     "metadata": {},
     "output_type": "execute_result"
    }
   ],
   "source": [
    "np.random.choice(range(5,16))"
   ]
  },
  {
   "cell_type": "code",
   "execution_count": 5,
   "metadata": {},
   "outputs": [
    {
     "name": "stdout",
     "output_type": "stream",
     "text": [
      "5\n",
      "6\n",
      "7\n",
      "8\n",
      "9\n",
      "10\n",
      "11\n",
      "12\n",
      "13\n",
      "14\n",
      "15\n"
     ]
    }
   ],
   "source": [
    "for i in range(5,16):\n",
    "    print (i)"
   ]
  },
  {
   "cell_type": "code",
   "execution_count": 6,
   "metadata": {},
   "outputs": [],
   "source": [
    "a = np.chararray((20,20))\n",
    "a[:] = '.'"
   ]
  },
  {
   "cell_type": "code",
   "execution_count": 8,
   "metadata": {},
   "outputs": [
    {
     "data": {
      "text/plain": [
       "array(<generator object <genexpr> at 0x00000266D546C4C8>, dtype=object)"
      ]
     },
     "execution_count": 8,
     "metadata": {},
     "output_type": "execute_result"
    }
   ],
   "source": [
    "np.array(['' for i in range(5)] for j in range(5))"
   ]
  },
  {
   "cell_type": "code",
   "execution_count": 11,
   "metadata": {},
   "outputs": [
    {
     "data": {
      "text/plain": [
       "array([['', '', '', '', ''],\n",
       "       ['', '', '', '', ''],\n",
       "       ['', '', '', '', ''],\n",
       "       ['', '', '', '', ''],\n",
       "       ['', '', '', '', '']], dtype='<U1')"
      ]
     },
     "execution_count": 11,
     "metadata": {},
     "output_type": "execute_result"
    }
   ],
   "source": [
    "np.array(['' for _ in range(5)]*5).reshape(5,5)"
   ]
  },
  {
   "cell_type": "code",
   "execution_count": 32,
   "metadata": {},
   "outputs": [],
   "source": [
    "import random"
   ]
  },
  {
   "cell_type": "code",
   "execution_count": 37,
   "metadata": {},
   "outputs": [
    {
     "ename": "TypeError",
     "evalue": "shuffle() got an unexpected keyword argument 'axis'",
     "output_type": "error",
     "traceback": [
      "\u001b[1;31m---------------------------------------------------------------------------\u001b[0m",
      "\u001b[1;31mTypeError\u001b[0m                                 Traceback (most recent call last)",
      "\u001b[1;32m<ipython-input-37-bd8c41ad26d5>\u001b[0m in \u001b[0;36m<module>\u001b[1;34m\u001b[0m\n\u001b[0;32m      1\u001b[0m \u001b[0ma_list\u001b[0m \u001b[1;33m=\u001b[0m \u001b[0mnp\u001b[0m\u001b[1;33m.\u001b[0m\u001b[0marray\u001b[0m\u001b[1;33m(\u001b[0m\u001b[1;33m[\u001b[0m\u001b[1;33m[\u001b[0m\u001b[1;36m1\u001b[0m\u001b[1;33m,\u001b[0m\u001b[1;36m3\u001b[0m\u001b[1;33m]\u001b[0m\u001b[1;33m,\u001b[0m\u001b[1;33m[\u001b[0m\u001b[1;36m5\u001b[0m\u001b[1;33m,\u001b[0m\u001b[1;36m6\u001b[0m\u001b[1;33m]\u001b[0m\u001b[1;33m,\u001b[0m\u001b[1;33m[\u001b[0m\u001b[1;36m7\u001b[0m\u001b[1;33m,\u001b[0m\u001b[1;36m8\u001b[0m\u001b[1;33m]\u001b[0m\u001b[1;33m]\u001b[0m\u001b[1;33m)\u001b[0m\u001b[1;33m\u001b[0m\u001b[1;33m\u001b[0m\u001b[0m\n\u001b[0;32m      2\u001b[0m \u001b[0mb_list\u001b[0m \u001b[1;33m=\u001b[0m \u001b[0mnp\u001b[0m\u001b[1;33m.\u001b[0m\u001b[0marray\u001b[0m\u001b[1;33m(\u001b[0m\u001b[1;33m[\u001b[0m\u001b[1;33m[\u001b[0m\u001b[1;36m1\u001b[0m\u001b[1;33m,\u001b[0m\u001b[1;36m3\u001b[0m\u001b[1;33m]\u001b[0m\u001b[1;33m,\u001b[0m\u001b[1;33m[\u001b[0m\u001b[1;36m5\u001b[0m\u001b[1;33m,\u001b[0m\u001b[1;36m15\u001b[0m\u001b[1;33m]\u001b[0m\u001b[1;33m,\u001b[0m\u001b[1;33m[\u001b[0m\u001b[1;36m20\u001b[0m\u001b[1;33m,\u001b[0m\u001b[1;36m8\u001b[0m\u001b[1;33m]\u001b[0m\u001b[1;33m,\u001b[0m\u001b[1;33m[\u001b[0m\u001b[1;36m7\u001b[0m\u001b[1;33m,\u001b[0m\u001b[1;36m8\u001b[0m\u001b[1;33m]\u001b[0m\u001b[1;33m]\u001b[0m\u001b[1;33m)\u001b[0m\u001b[1;33m\u001b[0m\u001b[1;33m\u001b[0m\u001b[0m\n\u001b[1;32m----> 3\u001b[1;33m \u001b[0mrandom\u001b[0m\u001b[1;33m.\u001b[0m\u001b[0mshuffle\u001b[0m\u001b[1;33m(\u001b[0m\u001b[0ma_list\u001b[0m\u001b[1;33m,\u001b[0m\u001b[0maxis\u001b[0m\u001b[1;33m=\u001b[0m\u001b[1;36m0\u001b[0m\u001b[1;33m)\u001b[0m\u001b[1;33m\u001b[0m\u001b[1;33m\u001b[0m\u001b[0m\n\u001b[0m",
      "\u001b[1;31mTypeError\u001b[0m: shuffle() got an unexpected keyword argument 'axis'"
     ]
    }
   ],
   "source": [
    "a_list = np.array([[1,3],[5,6],[7,8]])\n",
    "b_list = np.array([[1,3],[5,15],[20,8],[7,8]])\n",
    "random.shuffle(a_list,axis=0)"
   ]
  },
  {
   "cell_type": "code",
   "execution_count": 30,
   "metadata": {},
   "outputs": [
    {
     "name": "stderr",
     "output_type": "stream",
     "text": [
      "C:\\Users\\MeRKeZ\\Anaconda3\\lib\\site-packages\\ipykernel_launcher.py:1: DeprecationWarning: elementwise comparison failed; this will raise an error in the future.\n",
      "  \"\"\"Entry point for launching an IPython kernel.\n"
     ]
    },
    {
     "data": {
      "text/plain": [
       "(array([], dtype=int64),)"
      ]
     },
     "execution_count": 30,
     "metadata": {},
     "output_type": "execute_result"
    }
   ],
   "source": [
    "np.where(a_list == b_list)"
   ]
  },
  {
   "cell_type": "code",
   "execution_count": 36,
   "metadata": {},
   "outputs": [
    {
     "data": {
      "text/plain": [
       "array([[1, 3],\n",
       "       [5, 6],\n",
       "       [1, 3]])"
      ]
     },
     "execution_count": 36,
     "metadata": {},
     "output_type": "execute_result"
    }
   ],
   "source": [
    "a_list"
   ]
  },
  {
   "cell_type": "code",
   "execution_count": 57,
   "metadata": {},
   "outputs": [
    {
     "data": {
      "text/plain": [
       "[1, 5]"
      ]
     },
     "execution_count": 57,
     "metadata": {},
     "output_type": "execute_result"
    }
   ],
   "source": [
    "b = list(np.random.choice(range(1, 19), (2,)))\n",
    "list(b)"
   ]
  },
  {
   "cell_type": "code",
   "execution_count": 54,
   "metadata": {},
   "outputs": [],
   "source": [
    "a_list = [[1,3],[5,6],[7,8], [20,18]]\n",
    "if list(b) in a_list:\n",
    "    print (\"hello\")"
   ]
  },
  {
   "cell_type": "code",
   "execution_count": 88,
   "metadata": {},
   "outputs": [],
   "source": [
    "obs_loc = [[0, 0], [1, 0], [2, 0], [3, 0], [4, 0], [5, 0], [6, 0], [7, 0], \n",
    "           [8, 0], [9, 0], [10, 0], [11, 0], [12, 0], [13, 0], [14, 0], \n",
    "           [15, 0], [16, 0], [17, 0], [18, 0], [19, 0], [0, 19], [1, 19], \n",
    "           [2, 19], [3, 19], [4, 19], [5, 19], [6, 19], [7, 19], [8, 19], \n",
    "           [9, 19], [10, 19], [11, 19], [12, 19], [13, 19], [14, 19], \n",
    "           [15, 19], [16, 19], [17, 19], [18, 19], [19, 19], [19, 1], \n",
    "           [19, 2], [19, 3], [19, 4], [19, 5], [19, 6], [19, 7], [19, 8], \n",
    "           [19, 9], [19, 10], [19, 11], [19, 12], [19, 13], [19, 14], \n",
    "           [19, 15], [19, 16], [19, 17], [19, 18], [0, 1], [0, 2], [0, 3], \n",
    "           [0, 4], [0, 5], [0, 6], [0, 7], [0, 8], [0, 9], [0, 10], [0, 11], \n",
    "           [0, 12], [0, 13], [0, 14], [0, 15], [0, 16], [0, 17], [0, 18], [3, 1], \n",
    "           [3, 2], [3, 3], [3, 4], [3, 5], [3, 6], [3, 7], [3, 8], [3, 9], [3, 10], \n",
    "           [3, 11], [3, 12], [3, 13], [3, 14], [8, 15], [8, 16], [8, 17], [8, 18], [8, 20]]\n",
    "\n",
    "agents_loc = [[2.0, 2.0], [0.0, 7.0], [18., 1.]]\n",
    "prizes_loc =  [[19, 19], [3,5], [8,9], [18, 1]]\n",
    "a_list = []\n",
    "if prizes_loc[1] not in obs_loc and prizes_loc[1] not in a_list:\n",
    "    print (\"hello\")"
   ]
  },
  {
   "cell_type": "code",
   "execution_count": 79,
   "metadata": {},
   "outputs": [
    {
     "name": "stdout",
     "output_type": "stream",
     "text": [
      "(array([], dtype=int64),)\n",
      "hello\n"
     ]
    }
   ],
   "source": [
    "if agents_loc[2] in prizes_loc:\n",
    "    print (np.where(agents_loc[2] == prizes_loc))\n",
    "    print (\"hello\")"
   ]
  },
  {
   "cell_type": "code",
   "execution_count": 89,
   "metadata": {},
   "outputs": [
    {
     "data": {
      "text/plain": [
       "3"
      ]
     },
     "execution_count": 89,
     "metadata": {},
     "output_type": "execute_result"
    }
   ],
   "source": [
    "next((index for index, prize in enumerate(prizes_loc) if prize == agents_loc[2]), -1)"
   ]
  },
  {
   "cell_type": "code",
   "execution_count": 25,
   "metadata": {},
   "outputs": [
    {
     "data": {
      "text/plain": [
       "[[0, 12, 8, 9], [8, 20, 11, 12]]"
      ]
     },
     "execution_count": 25,
     "metadata": {},
     "output_type": "execute_result"
    }
   ],
   "source": [
    "medium_obstacle_list = [[[10,11,0,9],[10,11,12,20]],\n",
    "                      [[5,6,0,12],[8,9,10,20]],\n",
    "                      [[6,7,0,15],[11,12,6,20], [16,17,0,15]],\n",
    "                      [[0,9,9,10],[12,20,9,10]],\n",
    "                      [[0,12,8,9],[8,20,11,12]],\n",
    "                      [[0,10,6,7],[8,20,10,11],[0,10,14,15]]]\n",
    "\n",
    "ind = np.random.choice(len(medium_obstacle_list))\n",
    "medium_obstacle_list[ind]"
   ]
  },
  {
   "cell_type": "code",
   "execution_count": 27,
   "metadata": {},
   "outputs": [
    {
     "data": {
      "text/plain": [
       "[[0, 4, 6, 7],\n",
       " [5, 9, 6, 7],\n",
       " [10, 16, 6, 7],\n",
       " [17, 19, 6, 7],\n",
       " [8, 18, 3, 4],\n",
       " [6, 7, 0, 3],\n",
       " [6, 7, 4, 15],\n",
       " [13, 14, 0, 15],\n",
       " [0, 3, 12, 13],\n",
       " [4, 10, 12, 13],\n",
       " [11, 16, 12, 13],\n",
       " [17, 19, 12, 13],\n",
       " [10, 11, 13, 16],\n",
       " [10, 11, 17, 19],\n",
       " [2, 7, 15, 16],\n",
       " [13, 18, 15, 16]]"
      ]
     },
     "execution_count": 27,
     "metadata": {},
     "output_type": "execute_result"
    }
   ],
   "source": [
    "hard_obstacle_list = [[[0,4,6,7],[5,9,6,7],[10,16,6,7], [17,19,6,7],\n",
    "                   [8,18,3,4],\n",
    "                   [6,7,0,3],[6,7,4,15],\n",
    "                   [13,14,0,15],\n",
    "                   [0,3,12,13], [4,10,12,13], [11,16,12,13], [17,19,12,13],\n",
    "                   [10,11,13,16], [10,11,17,19],\n",
    "                   [2,7,15,16], [13,18,15,16]],\n",
    "                 [[0,9,6,7],[10,20,6,7],\n",
    "                   [6,7,0,3],[6,7,4,9], [6,7,10,16],\n",
    "                   [13,14,0,4], [13,14,5,8], [13,14,9,16],\n",
    "                   [0,3,12,13], [4,16,12,13], [17,20,12,13],\n",
    "                   [6,7,17,20], [13,14,17,20]],\n",
    "                 [[0,3,6,7],[4,9,6,7],[10,16,6,7], [17,20,6,7],\n",
    "                   [6,7,0,3],[6,7,4,12],\n",
    "                   [13,14,0,12],\n",
    "                   [0,10,12,13], [11,16,12,13], [17,20,12,13],\n",
    "                   [10,11,13,16], [10,11,17,20]]]\n",
    "\n",
    "ind = np.random.choice(len(hard_obstacle_list))\n",
    "hard_obstacle_list[ind]"
   ]
  },
  {
   "cell_type": "code",
   "execution_count": 29,
   "metadata": {},
   "outputs": [],
   "source": [
    "a = 1000000\n",
    "if a < 1e6:\n",
    "    print (\"hello\")"
   ]
  },
  {
   "cell_type": "code",
   "execution_count": 26,
   "metadata": {},
   "outputs": [
    {
     "data": {
      "text/plain": [
       "3"
      ]
     },
     "execution_count": 26,
     "metadata": {},
     "output_type": "execute_result"
    }
   ],
   "source": [
    "len(hard_obstacle_list)"
   ]
  },
  {
   "cell_type": "code",
   "execution_count": null,
   "metadata": {},
   "outputs": [],
   "source": []
  }
 ],
 "metadata": {
  "kernelspec": {
   "display_name": "Python 3",
   "language": "python",
   "name": "python3"
  },
  "language_info": {
   "codemirror_mode": {
    "name": "ipython",
    "version": 3
   },
   "file_extension": ".py",
   "mimetype": "text/x-python",
   "name": "python",
   "nbconvert_exporter": "python",
   "pygments_lexer": "ipython3",
   "version": "3.7.4"
  }
 },
 "nbformat": 4,
 "nbformat_minor": 4
}
