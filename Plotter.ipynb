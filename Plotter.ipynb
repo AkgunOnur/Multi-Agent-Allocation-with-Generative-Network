{
 "cells": [
  {
   "cell_type": "code",
   "execution_count": null,
   "source": [
    "import matplotlib.pyplot as plt\n",
    "import pandas as pd"
   ],
   "outputs": [],
   "metadata": {}
  },
  {
   "cell_type": "code",
   "execution_count": null,
   "source": [
    "#Read rewards from files\n",
    "e = pd.read_csv(\"errors.csv\", sep= ',')\n",
    "\n",
    "errD_fake = e.iloc[:,0]\n",
    "errD_real = e.iloc[:,1]\n",
    "errG = e.iloc[:,2]"
   ],
   "outputs": [],
   "metadata": {}
  },
  {
   "cell_type": "code",
   "execution_count": null,
   "source": [
    "%matplotlib inline \n",
    "import matplotlib.pyplot as plt\n",
    "\n",
    "#Ploting Errors\n",
    "plt.plot(errD_fake, label='eD_f')\n",
    "plt.plot(errD_real, label='eD_r')\n",
    "plt.plot(errG, label='eG')\n",
    "_ = plt.ylim()\n",
    "plt.ylabel('value')\n",
    "plt.xlabel('step')\n",
    "plt.legend()\n",
    "plt.title('Errors')\n",
    "#plt.savefig('errors.png')"
   ],
   "outputs": [],
   "metadata": {}
  },
  {
   "cell_type": "code",
   "execution_count": null,
   "source": [
    "#Read classifier stats from files\n",
    "p = pd.read_csv(\"performance.csv\", sep= ',')\n",
    "testc_labeled = p.iloc[:,0]\n",
    "train_loss = p.iloc[:,1]\n",
    "trainc_labeled = p.iloc[:,2]\n",
    "trainlib_size = p.iloc[:,3]"
   ],
   "outputs": [],
   "metadata": {}
  },
  {
   "cell_type": "code",
   "execution_count": null,
   "source": [
    "%matplotlib inline \n",
    "import matplotlib.pyplot as plt\n",
    "\n",
    "#Ploting Errors\n",
    "plt.plot(testc_labeled, label='TestC')\n",
    "plt.plot(trainc_labeled, label='TrainC')\n",
    "_ = plt.ylim()\n",
    "plt.ylabel('value')\n",
    "plt.xlabel('Library Size')\n",
    "plt.legend()\n",
    "plt.title('Classification Performance')\n",
    "#plt.savefig('classifier_perf.png')"
   ],
   "outputs": [],
   "metadata": {}
  },
  {
   "cell_type": "code",
   "execution_count": null,
   "source": [
    "%matplotlib inline \n",
    "import matplotlib.pyplot as plt\n",
    "\n",
    "#Ploting Errors\n",
    "plt.plot(train_loss, label='loss')\n",
    "_ = plt.ylim()\n",
    "plt.ylabel('value')\n",
    "plt.xlabel('Library Size')\n",
    "plt.legend()\n",
    "plt.title('Classifier Training Loss')\n",
    "#plt.savefig('classifier_train_loss.png')"
   ],
   "outputs": [],
   "metadata": {}
  }
 ],
 "metadata": {
  "kernelspec": {
   "name": "python3",
   "display_name": "Python 3.6.13 64-bit ('toad': conda)"
  },
  "language_info": {
   "name": "python",
   "version": "3.6.13",
   "mimetype": "text/x-python",
   "codemirror_mode": {
    "name": "ipython",
    "version": 3
   },
   "pygments_lexer": "ipython3",
   "nbconvert_exporter": "python",
   "file_extension": ".py"
  },
  "interpreter": {
   "hash": "c7c99f2a9180dd9b6d865747f0889d8cb2d54e28fdf55417d11f7e01a915d142"
  }
 },
 "nbformat": 4,
 "nbformat_minor": 2
}