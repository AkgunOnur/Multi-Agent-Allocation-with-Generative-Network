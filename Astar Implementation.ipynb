{
 "cells": [
  {
   "cell_type": "code",
   "execution_count": 1,
   "metadata": {},
   "outputs": [],
   "source": [
    "import numpy as np\n",
    "import time\n",
    "import pickle\n",
    "import operator\n",
    "from numpy.random import uniform\n",
    "import matplotlib.pyplot as plt"
   ]
  },
  {
   "cell_type": "code",
   "execution_count": 2,
   "metadata": {},
   "outputs": [],
   "source": [
    "class Node():\n",
    "    \"\"\"A node class for A* Pathfinding\"\"\"\n",
    "\n",
    "    def __init__(self, parent=None, position=None, action=None):\n",
    "        self.parent = parent\n",
    "        self.position = position\n",
    "        self.action = action\n",
    "\n",
    "        self.g = 0\n",
    "        self.h = 0\n",
    "        self.f = 0\n",
    "\n",
    "    def __eq__(self, other):\n",
    "        return self.position == other.position\n",
    "\n",
    "\n",
    "def get_closest_grid(current_pos):\n",
    "    differences = current_pos-uncertainty_grids\n",
    "    distances = np.sum(differences*differences,axis=1)\n",
    "    min_ind = np.argmin(distances)\n",
    "#     print (\"read pos: {0} index: {1} found_pos: {2}\".format(current_pos, min_ind, uncertainty_grids[min_ind]))\n",
    "    \n",
    "    return min_ind\n",
    "\n",
    "def get_obstacle_indices():\n",
    "    grid_res = 1.0\n",
    "    obstacle_indices = []\n",
    "    obstacle_indices_unsquezed = []\n",
    "    \n",
    "    obstacle_start = np.array([[-20, -20], [-20, -20], [19, -20], [-20, 19]]) \n",
    "    obstacle_end = np.array([[-19, 20], [20, -19], [20, 20], [20, 20]])\n",
    "\n",
    "    for i in range(obstacle_start.shape[0]):\n",
    "        x_range = np.arange(-grid_res/2+obstacle_start[i,0], obstacle_end[i,0]+grid_res/2, grid_res/4)\n",
    "        y_range = np.arange(-grid_res/2+obstacle_start[i,1], obstacle_end[i,1]+grid_res/2, grid_res/4)\n",
    "        indices = []\n",
    "        for x in x_range:\n",
    "            for y in y_range:\n",
    "                current_pos = np.array([x,y])\n",
    "                current_ind = get_closest_grid(current_pos)\n",
    "                if current_ind not in indices:\n",
    "                    indices.append(current_ind)\n",
    "\n",
    "        obstacle_indices.append(indices)\n",
    "        \n",
    "    for i in range(len(obstacle_indices)):\n",
    "        for j in range(len(obstacle_indices[0])):\n",
    "            obstacle_indices_unsquezed.append(obstacle_indices[i][j])\n",
    "\n",
    "    return obstacle_indices_unsquezed"
   ]
  },
  {
   "cell_type": "code",
   "execution_count": 6,
   "metadata": {},
   "outputs": [],
   "source": [
    "#Grid information\n",
    "grid_res = 2.0\n",
    "x_lim, y_lim, z_lim = 20, 20, 6\n",
    "obstacle_indices = [0, 1, 2, 3, 4, 5, 6, 7, 8, 9, 10, 11, 12, 13, 14, 15, 16, 17, 18, 19, 20, 21, 42, 63, 84, 105, \n",
    "                    126, 147, 168, 189, 210, 231, 252, 273, 294, 315, 336, 357, 378, 399, 420, 421, 422, 423, 424, \n",
    "                    425, 426, 427, 428, 429, 430, 431, 432, 433, 434, 435, 436, 437, 438, 439, 440, 41, 62, 83, \n",
    "                    104, 125, 146, 167, 188, 209, 230, 251, 272, 293, 314, 335, 356, 377, 398, 419, 190, 191, 192, \n",
    "                    193, 194, 195, 196, 197, 211, 212, 213, 214, 215, 216, 217, 218, 200, 201, 202, 203, 204, 205, \n",
    "                    206, 207, 208, 221, 222, 223, 224, 225, 226, 227, 228, 229]\n",
    "\n",
    "def astar_drone(start, end, obstacle_indices=None):\n",
    "    \"\"\"Returns a list of tuples as a path from the given start to the given end in the given maze\"\"\"\n",
    "    # Create start and end node\n",
    "    start_node = Node(None, start)\n",
    "    start_node.g = start_node.h = start_node.f = 0\n",
    "    end_node = Node(None, end)\n",
    "    end_node.g = end_node.h = end_node.f = 0\n",
    "    visited_grids = []\n",
    "\n",
    "    # Initialize both open and closed list\n",
    "    open_list = []\n",
    "    closed_list = []\n",
    "\n",
    "    # Add the start node\n",
    "    open_list.append(start_node)\n",
    "\n",
    "    # Loop until you find the end\n",
    "    while len(open_list) > 0:\n",
    "        # Get the current node\n",
    "        current_node = open_list[0]\n",
    "        current_index = 0\n",
    "        for index, item in enumerate(open_list):\n",
    "            if item.f < current_node.f:\n",
    "                current_node = item\n",
    "                current_index = index\n",
    "\n",
    "        # Pop current off open list, add to closed list\n",
    "        open_list.pop(current_index)\n",
    "        closed_list.append(current_node)\n",
    "\n",
    "        # Found the goal\n",
    "        if current_node == end_node:\n",
    "            path = []\n",
    "            current = current_node\n",
    "            while current is not None:\n",
    "                path.append([current.position, current.action])\n",
    "                visited_grids.append(get_closest_grid(current.position))\n",
    "                current = current.parent\n",
    "            return path[::-1], visited_grids # Return reversed path and visited grids\n",
    "\n",
    "        # Generate children\n",
    "        children = []\n",
    "        for index, new_position in enumerate([(0, -grid_res), (0, grid_res), (-grid_res, 0), (grid_res, 0), \n",
    "                                              (grid_res, grid_res), (grid_res, -grid_res), \n",
    "                                              (-grid_res, grid_res), (-grid_res, -grid_res)]): # Adjacent squares\n",
    "#         for new_position in [(0, -grid_res, 0), (0, grid_res, 0), (-grid_res, 0, 0), (grid_res, 0, 0)]: # Adjacent squares\n",
    "            # Get node position\n",
    "            node_position = (current_node.position[0] + new_position[0], current_node.position[1] + new_position[1])\n",
    "#             print (\"Node position: \", node_position)\n",
    "            node_index = get_closest_grid(node_position)\n",
    "#             print (\"Node index: {0} Node pos: {1}/{2}\".format(node_index, uncertainty_grids[node_index], node_position))\n",
    "            \n",
    "            \n",
    "            # Make sure within range\n",
    "            if node_position[0] > x_lim or node_position[0] < -x_lim or node_position[1] > y_lim or node_position[1] < -y_lim:\n",
    "#                 print (\"It's not within the range. Node position: \", node_position)\n",
    "                continue\n",
    "              \n",
    "                \n",
    "            if node_index in obstacle_indices:\n",
    "                print (\"It's a obstacle place. Node position: \", node_position)\n",
    "                continue\n",
    "                    \n",
    "                \n",
    "\n",
    "            # Create new node\n",
    "            new_node = Node(current_node, node_position, index)\n",
    "            \n",
    "            # Append\n",
    "            children.append(new_node)\n",
    "\n",
    "        # Loop through children\n",
    "        for child in children:\n",
    "            \n",
    "            # Child is on the closed list\n",
    "            for closed_child in closed_list:\n",
    "                if child == closed_child:\n",
    "                    continue\n",
    "\n",
    "            # Create the f, g, and h values\n",
    "            child.g = current_node.g + 1\n",
    "            child.h = ((child.position[0] - end_node.position[0]) ** 2) + ((child.position[1] - end_node.position[1]) ** 2)\n",
    "            child.f = child.g + child.h\n",
    "\n",
    "            # Child is already in the open list\n",
    "            for open_node in open_list:\n",
    "                if child == open_node and child.g > open_node.g:\n",
    "                    continue\n",
    "            # Add the child to the open list\n",
    "            open_list.append(child)"
   ]
  },
  {
   "cell_type": "code",
   "execution_count": 12,
   "metadata": {},
   "outputs": [
    {
     "name": "stdout",
     "output_type": "stream",
     "text": [
      "It's a obstacle place. Node position:  (-18.0, -20.0)\n",
      "It's a obstacle place. Node position:  (-20.0, -18.0)\n",
      "It's a obstacle place. Node position:  (-16.0, -20.0)\n",
      "It's a obstacle place. Node position:  (-20.0, -16.0)\n",
      "It's a obstacle place. Node position:  (-20.0, -20.0)\n",
      "([[(-18.0, -18.0), None], [(-16.0, -16.0), 4], [(-14.0, -14.0), 4], [(-12.0, -12.0), 4], [(-12.0, -10.0), 1], [(-12.0, -8.0), 1], [(-12.0, -6.0), 1], [(-12.0, -4.0), 1], [(-12.0, -2.0), 1], [(-12.0, 0.0), 1], [(-12.0, 2.0), 1], [(-12.0, 4.0), 1], [(-12.0, 6.0), 1], [(-12.0, 8.0), 1], [(-12.0, 10.0), 1], [(-12.0, 12.0), 1]], [100, 99, 98, 97, 96, 95, 94, 93, 92, 91, 90, 89, 88, 66, 44, 22])\n"
     ]
    }
   ],
   "source": [
    "import time \n",
    "\n",
    "x_lim, y_lim, z_lim = 20, 20, 6\n",
    "eps = 0.1\n",
    "res = 2\n",
    "X,Y = np.mgrid[-x_lim : x_lim + eps:res, \n",
    "               -y_lim : y_lim + eps:res]\n",
    "uncertainty_grids = np.vstack((X.flatten(), Y.flatten())).T\n",
    "    \n",
    "t = time.time()\n",
    "\n",
    "start = (-18., -18.)\n",
    "end = (12.,  10.)\n",
    "\n",
    "# end = (4., 14.)\n",
    "end = (12., 16.)\n",
    "end = (-16., -12.)\n",
    "end = (-12.,  16.)\n",
    "end = (8., 8.)\n",
    "end = (-12.,  12.)\n",
    "    \n",
    "    \n",
    "path = astar_drone(start, end, obstacle_indices=obstacle_indices)\n",
    "print(path)\n",
    "elapsed = time.time() - t"
   ]
  },
  {
   "cell_type": "code",
   "execution_count": 13,
   "metadata": {},
   "outputs": [
    {
     "data": {
      "text/plain": [
       "array([1, 2, 3, 4])"
      ]
     },
     "execution_count": 13,
     "metadata": {},
     "output_type": "execute_result"
    }
   ],
   "source": [
    "np.arange(1,5)"
   ]
  },
  {
   "cell_type": "code",
   "execution_count": 12,
   "metadata": {},
   "outputs": [
    {
     "data": {
      "text/plain": [
       "array([[-20., -20.],\n",
       "       [-20., -18.],\n",
       "       [-20., -16.],\n",
       "       [-20., -14.],\n",
       "       [-20., -12.],\n",
       "       [-20., -10.],\n",
       "       [-20.,  -8.],\n",
       "       [-20.,  -6.],\n",
       "       [-20.,  -4.],\n",
       "       [-20.,  -2.],\n",
       "       [-20.,   0.],\n",
       "       [-20.,   2.],\n",
       "       [-20.,   4.],\n",
       "       [-20.,   6.],\n",
       "       [-20.,   8.],\n",
       "       [-20.,  10.],\n",
       "       [-20.,  12.],\n",
       "       [-20.,  14.],\n",
       "       [-20.,  16.],\n",
       "       [-20.,  18.],\n",
       "       [-20.,  20.],\n",
       "       [-18., -20.],\n",
       "       [-16., -20.],\n",
       "       [-14., -20.],\n",
       "       [-12., -20.],\n",
       "       [-10., -20.],\n",
       "       [ -8., -20.],\n",
       "       [ -6., -20.],\n",
       "       [ -4., -20.],\n",
       "       [ -2., -20.],\n",
       "       [  0., -20.],\n",
       "       [  2., -20.],\n",
       "       [  4., -20.],\n",
       "       [  6., -20.],\n",
       "       [  8., -20.],\n",
       "       [ 10., -20.],\n",
       "       [ 12., -20.],\n",
       "       [ 14., -20.],\n",
       "       [ 16., -20.],\n",
       "       [ 18., -20.],\n",
       "       [ 20., -20.],\n",
       "       [ 20., -18.],\n",
       "       [ 20., -16.],\n",
       "       [ 20., -14.],\n",
       "       [ 20., -12.],\n",
       "       [ 20., -10.],\n",
       "       [ 20.,  -8.],\n",
       "       [ 20.,  -6.],\n",
       "       [ 20.,  -4.],\n",
       "       [ 20.,  -2.],\n",
       "       [ 20.,   0.],\n",
       "       [ 20.,   2.],\n",
       "       [ 20.,   4.],\n",
       "       [ 20.,   6.],\n",
       "       [ 20.,   8.],\n",
       "       [ 20.,  10.],\n",
       "       [ 20.,  12.],\n",
       "       [ 20.,  14.],\n",
       "       [ 20.,  16.],\n",
       "       [ 20.,  18.],\n",
       "       [ 20.,  20.],\n",
       "       [-18.,  20.],\n",
       "       [-16.,  20.],\n",
       "       [-14.,  20.],\n",
       "       [-12.,  20.],\n",
       "       [-10.,  20.],\n",
       "       [ -8.,  20.],\n",
       "       [ -6.,  20.],\n",
       "       [ -4.,  20.],\n",
       "       [ -2.,  20.],\n",
       "       [  0.,  20.],\n",
       "       [  2.,  20.],\n",
       "       [  4.,  20.],\n",
       "       [  6.,  20.],\n",
       "       [  8.,  20.],\n",
       "       [ 10.,  20.],\n",
       "       [ 12.,  20.],\n",
       "       [ 14.,  20.],\n",
       "       [ 16.,  20.],\n",
       "       [ 18.,  20.],\n",
       "       [ -2., -18.],\n",
       "       [ -2., -16.],\n",
       "       [ -2., -14.],\n",
       "       [ -2., -12.],\n",
       "       [ -2., -10.],\n",
       "       [ -2.,  -8.],\n",
       "       [ -2.,  -6.],\n",
       "       [ -2.,  -4.],\n",
       "       [  0., -18.],\n",
       "       [  0., -16.],\n",
       "       [  0., -14.],\n",
       "       [  0., -12.],\n",
       "       [  0., -10.],\n",
       "       [  0.,  -8.],\n",
       "       [  0.,  -6.],\n",
       "       [  0.,  -4.],\n",
       "       [ -2.,   2.],\n",
       "       [ -2.,   4.],\n",
       "       [ -2.,   6.],\n",
       "       [ -2.,   8.],\n",
       "       [ -2.,  10.],\n",
       "       [ -2.,  12.],\n",
       "       [ -2.,  14.],\n",
       "       [ -2.,  16.],\n",
       "       [ -2.,  18.],\n",
       "       [  0.,   2.],\n",
       "       [  0.,   4.],\n",
       "       [  0.,   6.],\n",
       "       [  0.,   8.],\n",
       "       [  0.,  10.],\n",
       "       [  0.,  12.],\n",
       "       [  0.,  14.],\n",
       "       [  0.,  16.],\n",
       "       [  0.,  18.]])"
      ]
     },
     "execution_count": 12,
     "metadata": {},
     "output_type": "execute_result"
    }
   ],
   "source": [
    "uncertainty_grids[obstacle_indices]"
   ]
  },
  {
   "cell_type": "code",
   "execution_count": 92,
   "metadata": {},
   "outputs": [],
   "source": [
    "init_range = np.arange(-18, 0, 2)"
   ]
  },
  {
   "cell_type": "code",
   "execution_count": 93,
   "metadata": {},
   "outputs": [
    {
     "data": {
      "text/plain": [
       "array([ -2, -16, -10, -18,  -4])"
      ]
     },
     "execution_count": 93,
     "metadata": {},
     "output_type": "execute_result"
    }
   ],
   "source": [
    "np.random.choice(init_range, (5,), replace=False)"
   ]
  },
  {
   "cell_type": "code",
   "execution_count": 125,
   "metadata": {},
   "outputs": [],
   "source": [
    "map_lim = 20.0 - 2.0\n",
    "init_pos_list = []\n",
    "init_grid_list = []\n",
    "for i in range(5):\n",
    "    init_grid_list.append(get_closest_grid([-map_lim + 2*i, -map_lim]))\n",
    "    init_pos_list.append([-map_lim + 2*i, -map_lim])\n",
    "for i in range(1,6):\n",
    "    init_grid_list.append(get_closest_grid([-map_lim , -map_lim + 2*i]))\n",
    "    init_pos_list.append([-map_lim , -map_lim + 2*i])"
   ]
  },
  {
   "cell_type": "markdown",
   "metadata": {},
   "source": [
    "## Reward List"
   ]
  },
  {
   "cell_type": "code",
   "execution_count": 148,
   "metadata": {},
   "outputs": [],
   "source": [
    "with open('model_reward_list.pkl', 'rb') as f:  \n",
    "    model_reward_dict = pickle.load(f)\n",
    "model_reward_list = sorted(model_reward_dict.items(), key=operator.itemgetter(1))\n",
    "model_reward_list[-1]"
   ]
  },
  {
   "cell_type": "code",
   "execution_count": null,
   "metadata": {},
   "outputs": [],
   "source": []
  },
  {
   "cell_type": "code",
   "execution_count": 19,
   "metadata": {},
   "outputs": [
    {
     "name": "stdout",
     "output_type": "stream",
     "text": [
      "3\n",
      "4\n",
      "0\n",
      "1\n",
      "3\n"
     ]
    }
   ],
   "source": [
    "np.random.seed(1)\n",
    "for i in range(5):\n",
    "#     print (np.random.rand(5))\n",
    "    print (np.random.choice(np.arange(5)))"
   ]
  },
  {
   "cell_type": "code",
   "execution_count": 20,
   "metadata": {},
   "outputs": [
    {
     "name": "stdout",
     "output_type": "stream",
     "text": [
      "3\n",
      "4\n",
      "0\n",
      "1\n",
      "3\n"
     ]
    }
   ],
   "source": [
    "np.random.seed(1)\n",
    "for i in range(5):\n",
    "    print (np.random.choice(np.arange(5)))"
   ]
  },
  {
   "cell_type": "code",
   "execution_count": 14,
   "metadata": {},
   "outputs": [
    {
     "data": {
      "text/plain": [
       "True"
      ]
     },
     "execution_count": 14,
     "metadata": {},
     "output_type": "execute_result"
    }
   ],
   "source": [
    "a = 149\n",
    "a_list = np.array([i for i in range(150)])\n",
    "np.any(a_list == a)"
   ]
  },
  {
   "cell_type": "code",
   "execution_count": 11,
   "metadata": {},
   "outputs": [
    {
     "data": {
      "text/plain": [
       "True"
      ]
     },
     "execution_count": 11,
     "metadata": {},
     "output_type": "execute_result"
    }
   ],
   "source": []
  },
  {
   "cell_type": "code",
   "execution_count": 9,
   "metadata": {},
   "outputs": [
    {
     "data": {
      "text/plain": [
       "array([  0,   1,   2,   3,   4,   5,   6,   7,   8,   9,  10,  11,  12,\n",
       "        13,  14,  15,  16,  17,  18,  19,  20,  21,  22,  23,  24,  25,\n",
       "        26,  27,  28,  29,  30,  31,  32,  33,  34,  35,  36,  37,  38,\n",
       "        39,  40,  41,  42,  43,  44,  45,  46,  47,  48,  49,  50,  51,\n",
       "        52,  53,  54,  55,  56,  57,  58,  59,  60,  61,  62,  63,  64,\n",
       "        65,  66,  67,  68,  69,  70,  71,  72,  73,  74,  75,  76,  77,\n",
       "        78,  79,  80,  81,  82,  83,  84,  85,  86,  87,  88,  89,  90,\n",
       "        91,  92,  93,  94,  95,  96,  97,  98,  99, 100, 101, 102, 103,\n",
       "       104, 105, 106, 107, 108, 109, 110, 111, 112, 113, 114, 115, 116,\n",
       "       117, 118, 119, 120, 121, 122, 123, 124, 125, 126, 127, 128, 129,\n",
       "       130, 131, 132, 133, 134, 135, 136, 137, 138, 139, 140, 141, 142,\n",
       "       143, 144, 145, 146, 147, 148, 149])"
      ]
     },
     "execution_count": 9,
     "metadata": {},
     "output_type": "execute_result"
    }
   ],
   "source": [
    "a_list"
   ]
  },
  {
   "cell_type": "code",
   "execution_count": null,
   "metadata": {},
   "outputs": [],
   "source": []
  },
  {
   "cell_type": "code",
   "execution_count": null,
   "metadata": {},
   "outputs": [],
   "source": []
  },
  {
   "cell_type": "code",
   "execution_count": null,
   "metadata": {},
   "outputs": [],
   "source": []
  },
  {
   "cell_type": "code",
   "execution_count": null,
   "metadata": {},
   "outputs": [],
   "source": []
  },
  {
   "cell_type": "code",
   "execution_count": null,
   "metadata": {},
   "outputs": [],
   "source": []
  },
  {
   "cell_type": "code",
   "execution_count": null,
   "metadata": {},
   "outputs": [],
   "source": []
  },
  {
   "cell_type": "code",
   "execution_count": null,
   "metadata": {},
   "outputs": [],
   "source": []
  },
  {
   "cell_type": "code",
   "execution_count": null,
   "metadata": {},
   "outputs": [],
   "source": []
  },
  {
   "cell_type": "code",
   "execution_count": null,
   "metadata": {},
   "outputs": [],
   "source": []
  },
  {
   "cell_type": "code",
   "execution_count": null,
   "metadata": {},
   "outputs": [],
   "source": []
  }
 ],
 "metadata": {
  "kernelspec": {
   "display_name": "Python 3",
   "language": "python",
   "name": "python3"
  },
  "language_info": {
   "codemirror_mode": {
    "name": "ipython",
    "version": 3
   },
   "file_extension": ".py",
   "mimetype": "text/x-python",
   "name": "python",
   "nbconvert_exporter": "python",
   "pygments_lexer": "ipython3",
   "version": "3.7.4"
  }
 },
 "nbformat": 4,
 "nbformat_minor": 4
}
